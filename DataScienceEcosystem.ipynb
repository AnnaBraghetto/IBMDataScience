{
 "cells": [
  {
   "cell_type": "markdown",
   "id": "e9265393-7563-4a69-9e36-f9ed800c4ab2",
   "metadata": {},
   "source": [
    "# Data Science Tools and Ecosystem"
   ]
  },
  {
   "cell_type": "markdown",
   "id": "a81abd14-762a-4e33-bfca-50834337f8bf",
   "metadata": {},
   "source": [
    "In this notebook, Data Science Tools and Ecosystem are summarized.\n",
    "\n"
   ]
  },
  {
   "cell_type": "markdown",
   "id": "99fe37b2-3e09-45b6-afee-d8427eda4b4f",
   "metadata": {},
   "source": [
    "Objectives:\n",
    "- List popular languages for Data Science\n",
    "- List popular libraries for Data Science\n",
    "- list popular tools for Data Science"
   ]
  },
  {
   "cell_type": "markdown",
   "id": "d3a162c2-47ad-47da-912e-4ac0e5a69bda",
   "metadata": {},
   "source": [
    "Some of the popular languages that Data Scientists use are:\n",
    "\n",
    "- Python\n",
    "-  R\n",
    "- Julia"
   ]
  },
  {
   "cell_type": "markdown",
   "id": "e2844180-d11d-47c5-854d-19db0b14fe96",
   "metadata": {},
   "source": [
    "Some of the commonly used libraries used by Data Scientists include:\n",
    "\n",
    "- Tensorflow\n",
    "- Keras\n",
    "- Pytorch"
   ]
  },
  {
   "cell_type": "markdown",
   "id": "75cfc30b-4ba9-468a-9815-4e1b42ec9b62",
   "metadata": {},
   "source": [
    "Data Science Tools\n",
    "\n",
    "\n",
    "|Jupyter|\n",
    "---------\n",
    "|Rstudio|\n",
    "---------\n",
    "|VS code| \n",
    "--------"
   ]
  },
  {
   "cell_type": "markdown",
   "id": "48646743-4dc2-4fa6-98c6-2ec28e845451",
   "metadata": {},
   "source": [
    "### Below are a few examples of evaluating arithmetic expressions in Python\n"
   ]
  },
  {
   "cell_type": "code",
   "execution_count": 6,
   "id": "95aefe23-49e0-491d-bf87-ad69a5824ec3",
   "metadata": {},
   "outputs": [
    {
     "data": {
      "text/plain": [
       "17"
      ]
     },
     "execution_count": 6,
     "metadata": {},
     "output_type": "execute_result"
    }
   ],
   "source": [
    "# This a simple arithmetic expression to multiply then add integers\n",
    "\n",
    "(3*4)+5"
   ]
  },
  {
   "cell_type": "code",
   "execution_count": 11,
   "id": "472c99e5-fa0e-4731-9b10-783affecdc42",
   "metadata": {},
   "outputs": [
    {
     "name": "stdout",
     "output_type": "stream",
     "text": [
      "3.3333333333333335\n"
     ]
    }
   ],
   "source": [
    "# This will convert 200 minutes to hours by diving by 60.\n",
    "\n",
    "minutes = 200\n",
    "hours= minutes/60\n",
    "print(hours)"
   ]
  },
  {
   "cell_type": "markdown",
   "id": "47cb8460-4120-4e12-a943-9772d8b45fe9",
   "metadata": {},
   "source": [
    "## Author\n",
    "\n",
    "Anna Braghetto"
   ]
  },
  {
   "cell_type": "markdown",
   "id": "30d18f9e-ade2-4742-a575-d21c5930ceee",
   "metadata": {},
   "source": [
    "# Github link\n",
    "\n",
    "https://github.com/AnnaBraghetto/IBMDataScience/blob/main/DataScienceEcosystem.ipynb"
   ]
  },
  {
   "cell_type": "code",
   "execution_count": null,
   "id": "d912abba-4c5c-4b91-856c-3b2344ac6d95",
   "metadata": {},
   "outputs": [],
   "source": []
  }
 ],
 "metadata": {
  "kernelspec": {
   "display_name": "Python 3 (ipykernel)",
   "language": "python",
   "name": "python3"
  },
  "language_info": {
   "codemirror_mode": {
    "name": "ipython",
    "version": 3
   },
   "file_extension": ".py",
   "mimetype": "text/x-python",
   "name": "python",
   "nbconvert_exporter": "python",
   "pygments_lexer": "ipython3",
   "version": "3.11.9"
  }
 },
 "nbformat": 4,
 "nbformat_minor": 5
}
